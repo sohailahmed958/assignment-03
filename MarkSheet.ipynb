{
 "cells": [
  {
   "cell_type": "code",
   "execution_count": 28,
   "id": "860a0be6",
   "metadata": {},
   "outputs": [
    {
     "name": "stdout",
     "output_type": "stream",
     "text": [
      "Enter Your English Marks:75\n",
      "Enter Your Maths Marks:85\n",
      "Enter Your Islamiyat Marks:95\n",
      "Your Percentage is: 85.0% And  Grade is: A+\n"
     ]
    }
   ],
   "source": [
    "#                 SOHAIL AHMED S/O WISAL MUHAMMAD  ROLL.NO: JP14409\n",
    "eng= float(input('Enter Your English Marks:'));\n",
    "math= float(input('Enter Your Maths Marks:'));\n",
    "isl= float(input('Enter Your Islamiyat Marks:'));\n",
    "prcnt= (eng+math+isl)/300 * 100;\n",
    "#print('Your percentage is: ' +str(prcnt));\n",
    "\n",
    "#prcnt= float(input('Enter Your Percentage:'))\n",
    "\n",
    "if prcnt<=100 and prcnt>=90:\n",
    "    print('Your Percentage is: ' + str(prcnt) + '% And Grade is: A*');\n",
    "elif prcnt<90 and prcnt>=80:\n",
    "    print('Your Percentage is: ' + str(prcnt) + '% And  Grade is: A+');\n",
    "elif prcnt<80 and prcnt>=70:\n",
    "    print('Your Percentage is: ' + str(prcnt) + '% And  Grade is: A');\n",
    "elif prcnt<70 and prcnt>=60:\n",
    "    print('Your Percentage is: ' + str(prcnt) + '% And  Grade is: B');\n",
    "elif prcnt<60 and prcnt>=50:\n",
    "    print('Your Percentage is: ' + str(prcnt) + '% And  Grade is: C');\n",
    "elif prcnt<50 and prcnt>=40:\n",
    "    print('Your Percentage is: ' + str(prcnt) + '% And  Grade is: D');\n",
    "elif prcnt<40 and prcnt>=33:\n",
    "    print('Your Percentage is: ' + str(prcnt) + '% And  Grade is: E');\n",
    "elif prcnt<33 and prcnt>=0:\n",
    "    print('Ohh! You are Faild..');\n",
    "elif prcnt<0 or prcnt>100:\n",
    "    print('Plase Enter Each Subject Obtain Marks Range 0 to 100...!!!');\n",
    "    #print('Plase Enter correct Percentage!!!');"
   ]
  },
  {
   "cell_type": "code",
   "execution_count": null,
   "id": "add27e34",
   "metadata": {},
   "outputs": [],
   "source": []
  }
 ],
 "metadata": {
  "kernelspec": {
   "display_name": "Python 3",
   "language": "python",
   "name": "python3"
  },
  "language_info": {
   "codemirror_mode": {
    "name": "ipython",
    "version": 3
   },
   "file_extension": ".py",
   "mimetype": "text/x-python",
   "name": "python",
   "nbconvert_exporter": "python",
   "pygments_lexer": "ipython3",
   "version": "3.8.8"
  }
 },
 "nbformat": 4,
 "nbformat_minor": 5
}
