{
 "cells": [
  {
   "cell_type": "code",
   "execution_count": 25,
   "id": "999659e9",
   "metadata": {},
   "outputs": [
    {
     "name": "stdout",
     "output_type": "stream",
     "text": [
      "Twinkle,twinkle,little star,\n",
      "        How I wonder what you are!\n",
      "              Up above the world so high,\n",
      "              Like a diamond in the sky.\n",
      "Twinkle,twinkle,little star,\n",
      "        How I wonder what you are\n"
     ]
    }
   ],
   "source": [
    "space='  ';\n",
    "print('Twinkle,twinkle,little star,\\n',space*3,'How I wonder what you are!\\n',space*6,'Up above the world so high,\\n',space*6,'Like a diamond in the sky.\\nTwinkle,twinkle,little star,\\n',space*3,'How I wonder what you are')"
   ]
  },
  {
   "cell_type": "code",
   "execution_count": 28,
   "id": "d3561490",
   "metadata": {},
   "outputs": [
    {
     "name": "stdout",
     "output_type": "stream",
     "text": [
      "Python version:\n",
      "3.8.8 (default, Apr 13 2021, 15:08:03) [MSC v.1916 64 bit (AMD64)]\n",
      "Version info:\n",
      "sys.version_info(major=3, minor=8, micro=8, releaselevel='final', serial=0)\n"
     ]
    }
   ],
   "source": [
    "import sys\n",
    "print('Python version:')\n",
    "print (sys.version)\n",
    "print('Version info:')\n",
    "print (sys.version_info)"
   ]
  },
  {
   "cell_type": "code",
   "execution_count": 27,
   "id": "b559fe51",
   "metadata": {},
   "outputs": [
    {
     "name": "stdout",
     "output_type": "stream",
     "text": [
      "Current date and time : \n",
      "2021-10-22 22:09:18\n"
     ]
    }
   ],
   "source": [
    "import datetime\n",
    "now = datetime.datetime.now()\n",
    "print ('We have Current date and time:')\n",
    "print (now.strftime('%Y-%m-%d %H:%M:%S'))"
   ]
  },
  {
   "cell_type": "code",
   "execution_count": 34,
   "id": "73343a59",
   "metadata": {},
   "outputs": [
    {
     "name": "stdout",
     "output_type": "stream",
     "text": [
      "Input the radius of the circle : 3\n",
      "The area of the circle with radius 3.0 is: 28.274333882308138\n"
     ]
    }
   ],
   "source": [
    "from math import pi\n",
    "r = float(input ('Please Enter the radius of a circle:'))\n",
    "print ('The area of the circle with its radius: ' + str(r) + ' is: ' + str(pi * r**2))"
   ]
  },
  {
   "cell_type": "code",
   "execution_count": 35,
   "id": "4018d071",
   "metadata": {},
   "outputs": [
    {
     "name": "stdout",
     "output_type": "stream",
     "text": [
      "Enter your First Name:Ahmed\n",
      "Enter your Last Name:Sohail\n",
      "My Name is Sohail Ahmed\n"
     ]
    }
   ],
   "source": [
    "firstName = input('Enter your First Name:')\n",
    "lastName = input('Enter your Last Name:')\n",
    "print('My Name is '+lastName+' '+firstName)"
   ]
  },
  {
   "cell_type": "code",
   "execution_count": 36,
   "id": "df56baf8",
   "metadata": {},
   "outputs": [
    {
     "name": "stdout",
     "output_type": "stream",
     "text": [
      "Enter 1st number:5\n",
      "Enter 2nd number:5\n",
      "The Addition is: 10\n"
     ]
    }
   ],
   "source": [
    "x = int(input('Enter 1st number:'))\n",
    "y = int(input('Enter 2nd number:'))\n",
    "add = x + y;\n",
    "print('The Addition is:', add)"
   ]
  },
  {
   "cell_type": "code",
   "execution_count": 37,
   "id": "d5a50f31",
   "metadata": {},
   "outputs": [
    {
     "name": "stdout",
     "output_type": "stream",
     "text": [
      "Enter Marks Obtained in 5 Subjects:\n",
      "89\n",
      "78\n",
      "99\n",
      "77\n",
      "88\n",
      "Your Grade is A1\n"
     ]
    }
   ],
   "source": [
    "mark = []\n",
    "tot = 0\n",
    "print('Enter Marks Obtained in 5 Subjects:')\n",
    "for i in range(5):\n",
    "    mark.insert(i, input())\n",
    "\n",
    "for i in range(5):\n",
    "    tot = tot + int(mark[i])\n",
    "avg = tot/5\n",
    "\n",
    "if avg>=90 and avg<=100:\n",
    "    print('Your Grade is A*')\n",
    "elif avg>=80 and avg<90:\n",
    "    print('Your Grade is A1')\n",
    "elif avg>=70 and avg<80:\n",
    "    print('Your Grade is A')\n",
    "elif avg>=60 and avg<70:\n",
    "    print('Your Grade is B')\n",
    "elif avg>=50 and avg<60:\n",
    "    print('Your Grade is C')\n",
    "elif avg>=40 and avg<50:\n",
    "    print('Your Grade is D')\n",
    "elif avg>=33 and avg<40:\n",
    "    print('Your Grade is E')\n",
    "elif avg>=0 and avg<33:\n",
    "    print('Ohh! You are Failed!!!')\n",
    "else:\n",
    "    print('Please Enter the correct Numbers of each subject.Range from 0 to 100.!')"
   ]
  },
  {
   "cell_type": "code",
   "execution_count": 40,
   "id": "4485754d",
   "metadata": {},
   "outputs": [
    {
     "name": "stdout",
     "output_type": "stream",
     "text": [
      "Enter any number: 68\n",
      "This is an even number.\n"
     ]
    }
   ],
   "source": [
    "num = int(input('Enter any number: '))\n",
    "mod = num % 2\n",
    "if mod > 0:\n",
    "    print('This is an odd number.')\n",
    "else:\n",
    "    print('This is an even number.')"
   ]
  },
  {
   "cell_type": "code",
   "execution_count": 42,
   "id": "79bd0cb2",
   "metadata": {},
   "outputs": [
    {
     "name": "stdout",
     "output_type": "stream",
     "text": [
      "Number of items in the list =  8\n"
     ]
    }
   ],
   "source": [
    "List = ['Sohail', 'Ahmed', 1, 2, 3,'Khan',78,9]\n",
    "print ('Number of items in the list = ',len(List))"
   ]
  },
  {
   "cell_type": "code",
   "execution_count": 2,
   "id": "f2cb5905",
   "metadata": {},
   "outputs": [
    {
     "name": "stdout",
     "output_type": "stream",
     "text": [
      "66\n"
     ]
    }
   ],
   "source": [
    "num = [1,1,-2,3,-5,8,13,-21,34,-55,89]\n",
    "addNum = sum(num)\n",
    "print(addNum)"
   ]
  },
  {
   "cell_type": "code",
   "execution_count": 8,
   "id": "a32dfdcd",
   "metadata": {},
   "outputs": [
    {
     "name": "stdout",
     "output_type": "stream",
     "text": [
      "The Largest Number in the List is:  90\n",
      "The Smallest Number in the List is:  -55\n"
     ]
    }
   ],
   "source": [
    "num = [1,1,-2,3,-5,8,13,90,-21,34,-55]\n",
    "print('The Largest Number in the List is: ',max(num))\n",
    "\n",
    "print('The Smallest Number in the List is: ',min(num))"
   ]
  },
  {
   "cell_type": "code",
   "execution_count": 30,
   "id": "447d69ac",
   "metadata": {},
   "outputs": [
    {
     "name": "stdout",
     "output_type": "stream",
     "text": [
      "[1]\n",
      "[1, 1]\n",
      "[1, 1, 2]\n",
      "[1, 1, 2, 3]\n"
     ]
    }
   ],
   "source": [
    "a = [1,1,2,3,5,8,13,21,34,55,89]\n",
    "new=[]\n",
    "for i in a:\n",
    "    if i<5:\n",
    "        new.append(i)\n",
    "        print(new)\n",
    " "
   ]
  },
  {
   "cell_type": "code",
   "execution_count": null,
   "id": "56c179cf",
   "metadata": {},
   "outputs": [],
   "source": []
  }
 ],
 "metadata": {
  "kernelspec": {
   "display_name": "Python 3",
   "language": "python",
   "name": "python3"
  },
  "language_info": {
   "codemirror_mode": {
    "name": "ipython",
    "version": 3
   },
   "file_extension": ".py",
   "mimetype": "text/x-python",
   "name": "python",
   "nbconvert_exporter": "python",
   "pygments_lexer": "ipython3",
   "version": "3.8.8"
  }
 },
 "nbformat": 4,
 "nbformat_minor": 5
}
